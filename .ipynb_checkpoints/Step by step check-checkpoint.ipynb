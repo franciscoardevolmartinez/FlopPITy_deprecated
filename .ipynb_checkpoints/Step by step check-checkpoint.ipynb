{
 "cells": [
  {
   "cell_type": "code",
   "execution_count": 2,
   "id": "cb2b45d7-c370-4c21-b35f-8c469cec23b8",
   "metadata": {},
   "outputs": [],
   "source": [
    "import numpy as np\n",
    "import matplotlib.pyplot as plt\n",
    "plt.rc('font', size=14)"
   ]
  },
  {
   "cell_type": "code",
   "execution_count": null,
   "id": "cc8a8e30-9749-438e-ade0-c7f7e0952628",
   "metadata": {},
   "outputs": [],
   "source": [
    "obs_phase = np.loadtxt('../MulteXBI_output/step_by_step_check/obs_phase_line_155.txt')\n",
    "obs_trans = np.loadtxt('../MulteXBI_output/step_by_step_check/obs_trans_line_155.txt')\n",
    "trans = np.loadtxt('../MulteXBI_output/step_by_step_check/trans_line_339.txt')\n",
    "phase = np.loadtxt('../MulteXBI_output/step_by_step_check/phase_line_339.txt')\n",
    "np_theta = np.loadtxt('../MulteXBI_output/step_by_step_check/np_theta_line_279.txt')\n",
    "params = np.loadtxt('../MulteXBI_output/step_by_step_check/params_line_304.txt')\n",
    "trans_aug = np.loadtxt('../MulteXBI_output/step_by_step_check/trans_aug_line_465.txt')\n",
    "phase_aug = '                      \n",
    "default_x = np.load('../MulteXBI_output/step_by_step_check/default_x_line_595.txt')"
   ]
  }
 ],
 "metadata": {
  "kernelspec": {
   "display_name": "Python 3 (ipykernel)",
   "language": "python",
   "name": "python3"
  },
  "language_info": {
   "codemirror_mode": {
    "name": "ipython",
    "version": 3
   },
   "file_extension": ".py",
   "mimetype": "text/x-python",
   "name": "python",
   "nbconvert_exporter": "python",
   "pygments_lexer": "ipython3",
   "version": "3.7.13"
  }
 },
 "nbformat": 4,
 "nbformat_minor": 5
}
